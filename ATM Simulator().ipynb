{
 "cells": [
  {
   "cell_type": "code",
   "execution_count": 3,
   "id": "46cb741f",
   "metadata": {},
   "outputs": [],
   "source": [
    "def ATM():\n",
    "  balance = 10000\n",
    "  print(\"***** Welcome To ATM Machine Simulator *****\")\n",
    "  print()\n",
    "  print(input('Enter Your Pin:'))\n",
    "  print()\n",
    "  print('Options you can Exercise are:\\n1) Balance\\n2) Withdraw\\n3) Deposit\\n4) Exit')\n",
    "  print()\n",
    "  option = int(input('Select Your Transaction from the above options:'))\n",
    "  print()\n",
    "  if option == 1:\n",
    "    print(\"Outstanding Balance: Rs.10000\")\n",
    "  elif option == 2:\n",
    "    amt = int(input('Enter Amount:'))\n",
    "    print()\n",
    "    if balance < amt:\n",
    "      print('Insufficient')\n",
    "    else:\n",
    "      balance = balance - amt\n",
    "      print('Transaction Successfull')\n",
    "  elif option == 3:\n",
    "    deposit = int(input(\"Enter Amount:\"))\n",
    "    balance = balance + deposit\n",
    "    print('Deposit Successfull')\n",
    "  elif option == 4:\n",
    "    print('Exited')\n",
    "  else:\n",
    "    print('No Transaction Selected')\n",
    "    return"
   ]
  },
  {
   "cell_type": "code",
   "execution_count": 4,
   "id": "5b212880",
   "metadata": {},
   "outputs": [
    {
     "name": "stdout",
     "output_type": "stream",
     "text": [
      "***** Welcome To ATM Machine Simulator *****\n",
      "\n",
      "Enter Your Pin:645609\n",
      "645609\n",
      "\n",
      "Options you can Exercise are:\n",
      "1) Balance\n",
      "2) Withdraw\n",
      "3) Deposit\n",
      "4) Exit\n",
      "\n",
      "Select Your Transaction from the above options:2\n",
      "\n",
      "Enter Amount:13000\n",
      "\n",
      "Insufficient\n"
     ]
    }
   ],
   "source": [
    "ATM()"
   ]
  },
  {
   "cell_type": "code",
   "execution_count": null,
   "id": "249c5725",
   "metadata": {},
   "outputs": [],
   "source": []
  }
 ],
 "metadata": {
  "kernelspec": {
   "display_name": "Python 3 (ipykernel)",
   "language": "python",
   "name": "python3"
  },
  "language_info": {
   "codemirror_mode": {
    "name": "ipython",
    "version": 3
   },
   "file_extension": ".py",
   "mimetype": "text/x-python",
   "name": "python",
   "nbconvert_exporter": "python",
   "pygments_lexer": "ipython3",
   "version": "3.9.13"
  }
 },
 "nbformat": 4,
 "nbformat_minor": 5
}
